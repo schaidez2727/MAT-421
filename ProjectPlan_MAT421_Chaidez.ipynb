{
  "nbformat": 4,
  "nbformat_minor": 0,
  "metadata": {
    "colab": {
      "provenance": [],
      "authorship_tag": "ABX9TyPO/S4thu6fEb07hiCcySeC",
      "include_colab_link": true
    },
    "kernelspec": {
      "name": "python3",
      "display_name": "Python 3"
    },
    "language_info": {
      "name": "python"
    }
  },
  "cells": [
    {
      "cell_type": "markdown",
      "metadata": {
        "id": "view-in-github",
        "colab_type": "text"
      },
      "source": [
        "<a href=\"https://colab.research.google.com/github/schaidez2727/MAT-421/blob/main/ProjectPlan_MAT421_Chaidez.ipynb\" target=\"_parent\"><img src=\"https://colab.research.google.com/assets/colab-badge.svg\" alt=\"Open In Colab\"/></a>"
      ]
    },
    {
      "cell_type": "markdown",
      "source": [
        "# Project Plan: Motor Vehicle Collisions and Contributing Factors #\n",
        "#### Santana Chaidez - MAT 421 ####"
      ],
      "metadata": {
        "id": "fzhAtW1Nz1Gd"
      }
    },
    {
      "cell_type": "markdown",
      "source": [
        "____\n",
        "## 1. Introduction ##\n",
        "___"
      ],
      "metadata": {
        "id": "lJrpry431Hr9"
      }
    },
    {
      "cell_type": "markdown",
      "source": [
        "**Research Objective**\n",
        "\n",
        "The primary research objective of this study is to create a mathematical model to study the relationships between vehicle collisions and their different causes and factors. The exploration of different sets of collision data in the United States will be conducted. A key factor of interest will be different characteristics of the at-fault party, including but not limited to: sobriety, inattention, and phone use. The time of day will also be noted in these observations in order to explore relationships between collision frequency and road conditions.\n",
        "\n",
        "Analyzing the data on vehicle collisions and their multiple contributing factors is important for promoting driver safety (via campaigns, education, license requirements, etc.) and establishing legal rules and guidelines for civilian drivers. It is also an important consideration in urban planning and contributes to the development and maintentance of roadways. Finally, observing the change in collision frequency and at-fault party characteristics allows for the identification of developing or worsening collision factors and how to address them."
      ],
      "metadata": {
        "id": "LsIXykZjTXIc"
      }
    },
    {
      "cell_type": "markdown",
      "source": [
        "____\n",
        "## 2. Related Work ##\n",
        "___"
      ],
      "metadata": {
        "id": "f245RBSklGiK"
      }
    },
    {
      "cell_type": "markdown",
      "source": [
        "**Literature Review**\n",
        "\n",
        "In 2008, the National Highway Traffic Saftey Administration (NHTSA) submitted the report \"National Motor Vehicle Crash Causation Survey\" to Congress. This report includes many analyses and comparisons of collision data, assessing elements such as environmental conditions and critical pre-crash factors in order to fully contextualize the multiple factors involved in each collision. Vehicle type, age, gender, party number, roadway conditions, distraction, inexperience, and fatigure are among the key factors reported on. A key line from the report emphasizes that this type of data is crucial in effectively evaluating and developing vehicle-related crash avoidance technologies. The NHTSA notes some such technologies as \"electronic stability control (ESC) systems, lane departure warning systems, run-off-the-road warning systems, adaptive cruise control, adaptive headlights, electronic brake distribution, and brake assist systems\" (2008, p. 1). However, this data is even more necessary in the continuing development of autonomous vehicles.\n",
        "\n",
        "The NHTSA report can be accessed vis this url: https://crashstats.nhtsa.dot.gov/Api/Public/ViewPublication/811059\n",
        "\n",
        "Another relevant article is \"Machine learning based real-time prediction of freeway crash risk using crowdsourced probe vehicle data\" (2022) written by Zihe Zhang, Jun Liu, et. al. This article reaffirms the continuous need for motor vehicle collision and corresponding causation data. The text discusses the utilization of a crowdsourced database in order to expand the geographical scope of traffic data in order to analyze a larger, more complete scope of collision data. This helps to expand our knowlegde of crash risk and collision factors beyond the major highways, expanding to smaller statewide roadways. The goal of the study is to implement machine learning and develop a model that predicts freeway crash risk. This study supports the continued benefit of traffic and collision data analysis for the purpose of developing improved prediction and prevention measures.\n",
        "\n",
        "This article can be accessed vis this url: https://www.tandfonline.com/doi/full/10.1080/15472450.2022.2106564"
      ],
      "metadata": {
        "id": "z61jeJVVlFc7"
      }
    },
    {
      "cell_type": "markdown",
      "source": [
        "____\n",
        "## 3. Proposed Methodology/Models ##\n",
        "___"
      ],
      "metadata": {
        "id": "p1J-FgB9lQDc"
      }
    },
    {
      "cell_type": "markdown",
      "source": [
        "**Methodology**\n",
        "\n",
        "Thi study will begin with the review and any necessary cleaning of my chosen datasets, which will be uploaded to my notebook for analysis. While performing this study within Python, several key libraries will be used in order to fascilitate various examinations, mathematical and statistical computations, and data visualizations. These libraries will include:\n",
        "\n",
        "* NumPy - Fascilitates array computations and representations. It also provides various mathematical functions, numerical tools, linear algebra operations, Fourier transforms, and analytic functions.\n",
        "* SciPy - Fascilitates scientific and numerical computations. It provides built-in numerical methods for integration and solving ODEs, along with other optimization, interpolation, and analysis tools.\n",
        "* Pandas - Provides essential data manipulation and analysis tools, with efficient data storage and manipulation tools/structures.\n",
        "* Matplotlib - Fascilitates the creation of visualizations and plots.\n",
        "\n",
        "To analyze the chosen datsests, they will be uploaded as dataframes and previewed within the project notebook using the Pandas library. The Matplotlib library will be used to visually plot and explore the data. For instance, the amount of vehicle collisions will be plotted against different causation factors, as well as perhaps time of day and at-fault part characteristics. Finally, the NumPy and SciPy libraries will be used to carry out the necessary computations in order to create a mathematical model for these relationships, and also to find the roots of these relationships and observe how the system model changes over time.\n",
        "\n",
        "To carry out these tasks, I will be implementing specific statistical tools and models. Depending on the visual trends observed in the plotted data, different tools may be used. One such model would be Taylor's Theorem, which will be used to approximate the functions modelling these different observed relationships. Cubic spline interpolation may also be used to bridge any chronological gaps in the datasets. Numerical differentiation will also be used to model the change of these relationships over time. A Finite Difference approximation will be made for the derivative of the function model. Finally, root finding will implemented in order to identify  the optimal driving times by observing the lowest collision frequencies. This procedure will likely be carried out through the identification of local minimizers within the data utilizing gradient descent."
      ],
      "metadata": {
        "id": "FUzLdEcslkaC"
      }
    },
    {
      "cell_type": "markdown",
      "source": [
        "____\n",
        "## 4. Experiment Setups ##\n",
        "___"
      ],
      "metadata": {
        "id": "kZubOCMJlhek"
      }
    },
    {
      "cell_type": "markdown",
      "source": [
        "**Data Collection**\n",
        "\n",
        "Data will be collected and analyzed from existing datasets. Two independent datasets will be observed - one for collisions in California, and another for collisions in New York.\n",
        "\n",
        "The New York collisions dataset contains data on NYC collisions and was provided by the NYPD and published by the city of New York. The data spans collisions from June 2012 to August 2024. The California collisions dataset contains data on California collisions and was provided by the California Highway Patrol. The data spans collisions from 2016 to 2021. Both datasets feature data types such as strings, integers, and datetimes. Data categories include collision date and time, location, contributing factors, injuries, deaths, and vehicle types. The direct link to the New York dataset can be reached via the url: https://data.cityofnewyork.us/Public-Safety/Motor-Vehicle-Collisions-Crashes/h9gi-nx95/about_data.\n",
        "The direct link to the SWITRS California dataset can be reached via the url: https://www.chp.ca.gov/programs-services/services-information/switrs-internet-statewide-integrated-traffic-records-system.\n",
        "\n",
        "**Analysis Plan**\n",
        "\n",
        "To analyze these datsests, they will first be uploaded into the project notebook - this will likely be done by importing the Pandas Python library and using the read_csv () function to import the datasets and assign them as variable. I then intend to explore the bases and general information contained in each of the datasets, such as the number of rows, exact date range, data types for different information, etc. This exploration will be performed using functions such as head(), info(), and describe() in Python.\n",
        "\n",
        "For statistical tools and models, I first intend to use Taylor's Theorem in order to approximate functions to model the different relationships I will be observing - primarily the relationship between collision frequency and contributing collision factors. Numerical differentiation will also be used to model the change of this relationship over time. Finally, root finding will also be used to identify  the optimal driving times by observing the lowest collision frequencies.\n",
        "\n",
        "**Team Roles and Responsibilites**\n",
        "\n",
        "I will be working alone on this project, so I assume all roles and responsibilities."
      ],
      "metadata": {
        "id": "N4vN8Lhklk-K"
      }
    },
    {
      "cell_type": "markdown",
      "source": [
        "____\n",
        "## 5. Expected Results ##\n",
        "___"
      ],
      "metadata": {
        "id": "H0I-JDtjlhk8"
      }
    },
    {
      "cell_type": "markdown",
      "source": [
        "**Hypothesis/Research Questions**\n",
        "\n",
        "The base hypothesis for my research is that there is a statistically significant relationship between vehicle collision frequency and specific at-fault party characteristics such as sobriety, inattention, and phone use. Additionally, collision rates will vary based on the time of day due to changing road conditions, with higher frequencies occurring during periods of low visibility and peak traffic hours. I expect my research to reveal inattention/distraction as the primary cause noted for collisions.\n",
        "\n",
        "To retiterate, my research objective involves the development of mathematical model to assess the relationship between vehicle collisions and their causation factors. The intention of this research is to explore questions such as:\n",
        "\n",
        "* What are the most common causes of collisions?\n",
        "\n",
        "* At what times of day are collisions most frequent?\n",
        "\n",
        "* What other factors and trends can we notice among at-fault parties across reported collisions?\n",
        "\n",
        "*  What implications do the major collision risk factors have on developments in saftey and crash-avoidance technologies? On developments in autonomous vehicles and their crash-avoidance features?"
      ],
      "metadata": {
        "id": "Qmf1s3gLllbQ"
      }
    }
  ]
}