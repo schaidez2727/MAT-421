{
  "nbformat": 4,
  "nbformat_minor": 0,
  "metadata": {
    "colab": {
      "provenance": [],
      "authorship_tag": "ABX9TyPCmIuNttFXXDTeMf1vHFzQ",
      "include_colab_link": true
    },
    "kernelspec": {
      "name": "python3",
      "display_name": "Python 3"
    },
    "language_info": {
      "name": "python"
    }
  },
  "cells": [
    {
      "cell_type": "markdown",
      "metadata": {
        "id": "view-in-github",
        "colab_type": "text"
      },
      "source": [
        "<a href=\"https://colab.research.google.com/github/schaidez2727/MAT-421/blob/main/ModuleG_MAT421_Chaidez.ipynb\" target=\"_parent\"><img src=\"https://colab.research.google.com/assets/colab-badge.svg\" alt=\"Open In Colab\"/></a>"
      ]
    },
    {
      "cell_type": "markdown",
      "source": [
        "# Module G (HW 8) - MAT 421 #\n",
        "#### Santana Chaidez ####"
      ],
      "metadata": {
        "id": "fzhAtW1Nz1Gd"
      }
    },
    {
      "cell_type": "markdown",
      "source": [
        "* The **integral** of a function is often described as \"the area under the curve\" [of said function]\n",
        "* Has many applications for modeling, predicting, and understaniding physical systems\n",
        "* Can be *difficult* or *impossible* to find the exact solution for the integral of a function"
      ],
      "metadata": {
        "id": "RwFFNqnJR-VO"
      }
    },
    {
      "cell_type": "markdown",
      "source": [
        "____\n",
        "## Numerical Integration Problem Statement ##\n",
        "___"
      ],
      "metadata": {
        "id": "1qU3s3HRgLxT"
      }
    },
    {
      "cell_type": "markdown",
      "source": [
        "**Numerical Integration**\n",
        "* Given a function f(x), the goal of **numerical integration** is to approximate the **integral** of f(x) over the entire interval [a, b]\n",
        "* Assume the interval has been discretized into a **numerical grid**, x, composed of n + 1 points with a spacing of h = (b - a) / n\n",
        "* The *i* th point in the grid is denoted as x*i*, where x*0* = a and x*n* = b\n",
        "* The interval [x*i*, x*i+1*] is a **subinterval**, within the total interval [x*0*, x*n*]\n",
        "\n",
        "General approach for **numerical integration**: approximate the area under curve f(x) for each subinterval with the area of a simple shape, then summing all subinterval areas."
      ],
      "metadata": {
        "id": "MYyitUsOTExv"
      }
    },
    {
      "cell_type": "markdown",
      "source": [
        "____\n",
        "## Riemanns Integral ##\n",
        "___"
      ],
      "metadata": {
        "id": "9bpiRntrTYFe"
      }
    },
    {
      "cell_type": "markdown",
      "source": [
        "**Riemanns Integral**\n",
        "* Simple method for approximating integrals\n",
        "* Involves **summing the areas of rectangles** that are defined for each subinterval\n",
        "* Rectangles have **width** h = x*i+1* - x*i* (spacing/step size!) and **height** defined by a value f(x)for some x in the subinterval\n",
        "* **Riemanns Integral approximation** chooses the height as either the function value at the **left endpoint**, x*i*, or at the **right endpoint**, x*i+1*\n",
        "* The resulting approximation is written as:\n",
        "\n",
        "$∫\\limits_a^b f(x) dx\\approx\\sum hf(x_{i})$, with summation limits of i=0 to n-1 for the left endpoint or i=1 to n for the right endpoint.\n",
        "* Using Taylor series to reqrite the integral of f(x) over an arbitrary subinterval, we find that the **total error** for the Riemann Integral over the whole interval is O(h)\n",
        "\n",
        "**Midpoint Rule**\n",
        "* Takes the **height** of the rectangle at each subinterval to be the function value f(x) at the **midpoint** between x*i* and x*i+1*\n",
        "* Midpoint of subinterval denoted as y*i* = ( x*i* + x*i+1* ) / 2\n",
        "* Error of O(h^2) over the whole interval\n",
        "\n",
        "Let's compare the **left Riemann Integral**, **right Riemann Integral**, and **Midpoint Rule** using the integral $∫\\limits_0^\\pi sin(x) dx$ :"
      ],
      "metadata": {
        "id": "65iQrOlJTjLS"
      }
    },
    {
      "cell_type": "code",
      "execution_count": 1,
      "metadata": {
        "colab": {
          "base_uri": "https://localhost:8080/"
        },
        "id": "OmXHnVK4REX3",
        "outputId": "deac6b86-627e-4079-e003-18a0445b2c6e"
      },
      "outputs": [
        {
          "output_type": "stream",
          "name": "stdout",
          "text": [
            "Left Riemann Integral Approx.: 1.9835235375094546\n",
            "Left Riemann Error: 0.01647646249054535\n",
            "Right Riemann Integral Approx.: 1.9835235375094546\n",
            "Right Riemann Error: 0.01647646249054535\n",
            "Midpoint Rule Integral Approx.: 2.0082484079079745\n",
            "Midpoint Rule Error: -0.008248407907974542\n"
          ]
        }
      ],
      "source": [
        "# Comparing left Riemann Integral, right Riemann Integral, and Midpoint Rule\n",
        "# Approximating integral of sin(x) over interval [0, pi]\n",
        "\n",
        "import numpy as np\n",
        "\n",
        "a = 0 # start of interval; x_0\n",
        "b = np.pi # end of interval; x_n\n",
        "n = 11 # number of [evenly spaced] grid points over interval\n",
        "h = (b - a) / (n - 1) # grid spacing = rectangle width\n",
        "x = np.linspace(a, b, n) # discrete numerical grid\n",
        "f = np.sin(x) # function of interest, f(x) = sin(x)\n",
        "\n",
        "# Left Riemann Integral\n",
        "riemannL_int = h * sum(f[:n-1]) # h * sum of function values\n",
        "err_riemannL = 2 - riemannL_int # calculating error (known value of integral = 2)\n",
        "\n",
        "# Right Riemann Integral\n",
        "riemannR_int = h * sum(f[1::])\n",
        "err_riemannR = 2 - riemannR_int\n",
        "\n",
        "# Midpoint Rule\n",
        "mid_int = h * sum(np.sin((x[:n-1] + x[1:])/2))\n",
        "err_mid = 2 - mid_int\n",
        "\n",
        "print(\"Left Riemann Integral Approx.: \" + str(riemannL_int))\n",
        "print(\"Left Riemann Error: \" + str(err_riemannL))\n",
        "\n",
        "print(\"Right Riemann Integral Approx.: \" + str(riemannR_int))\n",
        "print(\"Right Riemann Error: \" + str(err_riemannR))\n",
        "\n",
        "print(\"Midpoint Rule Integral Approx.: \" + str(mid_int))\n",
        "print(\"Midpoint Rule Error: \" + str(err_mid))"
      ]
    },
    {
      "cell_type": "markdown",
      "source": [
        "From our results, we can see that the Midpoint Rule approximation is the most accurate! Its error is about half the error of both Riemann approximations.\n",
        "\n",
        "Increasing the number of grid points (n)/decreasing the spacing (h) would also lower the error for all methods!"
      ],
      "metadata": {
        "id": "BFviaPpQFJe0"
      }
    },
    {
      "cell_type": "markdown",
      "source": [
        "____\n",
        "## Trapezoid Rule ##\n",
        "___"
      ],
      "metadata": {
        "id": "wiNK-razGEEl"
      }
    },
    {
      "cell_type": "markdown",
      "source": [
        "* Instead of using rectangles, a **trapezoid** is fitted into each subinterval\n",
        "* The areas of the trapezoids are summed to approximate the total integral\n",
        "* For each subinterval [x*i*, x*i+1*], the corners of the trapezoid are the points: $(x_{i}, 0), (x_{i+1}, 0), (x_{i}, f(x_{i})), \\& (x_{i+1}, f(x_{i+1}))$\n",
        "* **Area of the trapezoid** for each subinterval: h [ f(x*i*) + f(x*i+1*) ] / 2\n",
        "* **Trapezoid Rule Integral Approximation**: $\\int\\limits_a^b f(x) dx\\approx\\sum\\limits_{i=0}^{n-1}h\\frac{f(x_{i})+f(x_{i+1})}{2} = \\frac{h}{2}[f(x_{0})+2(\\sum\\limits_{i=1}^{n-1}f(x_{i}))+f(x_{n})]$\n",
        "* Error of O(h^2) over the whole interval\n",
        "\n",
        "Let's use the **Trapezoid Rule** to approximate the integral $∫\\limits_0^\\pi sin(x) dx$ :\n"
      ],
      "metadata": {
        "id": "HOjXZD9eGf7a"
      }
    },
    {
      "cell_type": "code",
      "source": [
        "# Using Trapezoid Rule to approximate integral of sin(x) over interval [0, pi]\n",
        "\n",
        "import numpy as np\n",
        "\n",
        "a = 0 # start of interval; x_0\n",
        "b = np.pi # end of interval; x_n\n",
        "n = 11 # number of [evenly spaced] grid points over interval\n",
        "h = (b - a) / (n - 1) # grid spacing\n",
        "x = np.linspace(a, b, n) # discrete numerical grid\n",
        "f = np.sin(x) # function of interest, f(x) = sin(x)\n",
        "\n",
        "# Trapezoid Rule Integral\n",
        "trap_int = (h/2)*(f[0] + 2 * sum(f[1:n-1]) + f[n-1]) # h * sum of trapezoid areas\n",
        "# Note: above expression rearranged to make computation more efficient\n",
        "err_trap = 2 - trap_int # error of approx. (known integral value = 2)\n",
        "\n",
        "print(\"Trapezoid Rule Integral Approx.: \" + str(trap_int))\n",
        "print(\"Trapezoid Rule Error: \" + str(err_trap))"
      ],
      "metadata": {
        "colab": {
          "base_uri": "https://localhost:8080/"
        },
        "id": "R7U4MmTlE2i7",
        "outputId": "b2cd9bb5-4c85-4276-98c4-45b016391666"
      },
      "execution_count": 3,
      "outputs": [
        {
          "output_type": "stream",
          "name": "stdout",
          "text": [
            "Trapezoid Rule Integral Approx.: 1.9835235375094546\n",
            "Trapezoid Rule Error: 0.01647646249054535\n"
          ]
        }
      ]
    },
    {
      "cell_type": "markdown",
      "source": [
        "If we compare this to our previous approximations for this integral, we can see that the accuracy/error of the Trapezoid Rule approximation is comparable to both the left and right Riemann Integrations!\n",
        "\n",
        "The Midpoint Rule maintains a smaller error/higher level of accuracy."
      ],
      "metadata": {
        "id": "ggaX4myiN5VW"
      }
    }
  ]
}