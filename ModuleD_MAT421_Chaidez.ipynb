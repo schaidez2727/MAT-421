{
  "nbformat": 4,
  "nbformat_minor": 0,
  "metadata": {
    "colab": {
      "provenance": [],
      "authorship_tag": "ABX9TyN+6Y/EUxOcAylr4ioysplF",
      "include_colab_link": true
    },
    "kernelspec": {
      "name": "python3",
      "display_name": "Python 3"
    },
    "language_info": {
      "name": "python"
    }
  },
  "cells": [
    {
      "cell_type": "markdown",
      "metadata": {
        "id": "view-in-github",
        "colab_type": "text"
      },
      "source": [
        "<a href=\"https://colab.research.google.com/github/schaidez2727/MAT-421/blob/main/ModuleD_MAT421_Chaidez.ipynb\" target=\"_parent\"><img src=\"https://colab.research.google.com/assets/colab-badge.svg\" alt=\"Open In Colab\"/></a>"
      ]
    },
    {
      "cell_type": "markdown",
      "source": [
        "# Module D (HW 5) - MAT 421 #\n",
        "#### Santana Chaidez ####"
      ],
      "metadata": {
        "id": "fzhAtW1Nz1Gd"
      }
    },
    {
      "cell_type": "markdown",
      "source": [
        "____\n",
        "## Introduction to Linear Algebra ##\n",
        "___"
      ],
      "metadata": {
        "id": "1qU3s3HRgLxT"
      }
    },
    {
      "cell_type": "markdown",
      "source": [
        "* **Linear algebra** is widely used in engineering applications such as data science and machine learning\n",
        "* Many problems can be represented or approximated with linear relationships\n",
        "\n",
        "Some basic component of linear algebra include:\n",
        "\n",
        "* **Sets** - a collection of objects (such as numbers or elements; e.g. N is the standard symbol for the set of natural numbers, Naturals) denoted by {}\n",
        "* **Vectors** - a single-row (row vector) or -column (column vector) collection of elements, the length of which is known as the *norm*\n",
        "* **Matrices** - an m x n **matrix** is a rectangular table of numbers (elements) consisting of *m* rows and *n* columns"
      ],
      "metadata": {
        "id": "gAmd_B4OquUN"
      }
    },
    {
      "cell_type": "code",
      "source": [
        "# Example of row vector and column vector:\n",
        "\n",
        "import numpy as np\n",
        "# importing Python library, NumPy, which fascilitates various forms of scientific computing\n",
        "\n",
        "vector_row = np.array([[0, 1, 2, 3, 4]])\n",
        "vector_col = np.array([[0],\n",
        "                          [1],\n",
        "                          [2],\n",
        "                          [3],\n",
        "                          [4]])\n",
        "print(vector_row)\n",
        "print('row vector dimensions: ', vector_row.shape)\n",
        "print(vector_col)\n",
        "print('column vector dimensions: ', vector_col.shape)\n",
        "\n",
        "# Cross product of 2 vectors, which produces a third vector that is\n",
        "# perpendicular to both of the original vectors/arrays\n",
        "a = np.array([[1, 2, 3]])\n",
        "b = np.array([[7, 6, 5]])\n",
        "\n",
        "print('cross product of vectors a and b: ', np.cross(a, b))"
      ],
      "metadata": {
        "id": "2afPiCP_FIUq",
        "colab": {
          "base_uri": "https://localhost:8080/"
        },
        "outputId": "e17546a0-f222-4080-f6c2-5e51c04721ae"
      },
      "execution_count": 5,
      "outputs": [
        {
          "output_type": "stream",
          "name": "stdout",
          "text": [
            "[[0 1 2 3 4]]\n",
            "row vector dimensions:  (1, 5)\n",
            "[[0]\n",
            " [1]\n",
            " [2]\n",
            " [3]\n",
            " [4]]\n",
            "column vector dimensions:  (5, 1)\n",
            "cross product of vectors a and b:  [[-8 16 -8]]\n"
          ]
        }
      ]
    },
    {
      "cell_type": "markdown",
      "source": [
        "Note that operations like multiplication and addition can be performed on vectors/matrices!"
      ],
      "metadata": {
        "id": "OA-_d8ztyQ-O"
      }
    },
    {
      "cell_type": "code",
      "source": [
        "# Examples of matrices:\n",
        "\n",
        "A = np.array([[1,2], [3, 4], [5, 6]])\n",
        "B = np.array([[3, 2, -6, 1], [-1, 4, 7, -3]])\n",
        "C = np.array([[0, 1], [2, 3], [4, 5]])\n",
        "print(A)\n",
        "print(B)\n",
        "print(C)\n",
        "\n",
        "# Addition and multiplication with matrices:\n",
        "\n",
        "print('A x B = \\n', np.dot(A, B))\n",
        "print('A + C = \\n', A + C)"
      ],
      "metadata": {
        "colab": {
          "base_uri": "https://localhost:8080/"
        },
        "id": "rtctKDV8xFbR",
        "outputId": "d84e4ccd-b5d2-43d7-9fd1-c23f18e78c8b"
      },
      "execution_count": 7,
      "outputs": [
        {
          "output_type": "stream",
          "name": "stdout",
          "text": [
            "[[1 2]\n",
            " [3 4]\n",
            " [5 6]]\n",
            "[[ 3  2 -6  1]\n",
            " [-1  4  7 -3]]\n",
            "[[0 1]\n",
            " [2 3]\n",
            " [4 5]]\n",
            "A x B = \n",
            " [[  1  10   8  -5]\n",
            " [  5  22  10  -9]\n",
            " [  9  34  12 -13]]\n",
            "A + C = \n",
            " [[ 1  3]\n",
            " [ 5  7]\n",
            " [ 9 11]]\n"
          ]
        }
      ]
    },
    {
      "cell_type": "markdown",
      "source": [
        "____\n",
        "## Elements of Linear Algebra ##\n",
        "___"
      ],
      "metadata": {
        "id": "fZf720P_4Htf"
      }
    },
    {
      "cell_type": "markdown",
      "source": [
        "**Linear Combinations**\n",
        "* A **linear combination** is a new vector constructed from a subset by multiplying each vector by a constant and adding the results\n",
        "\n",
        "**Linear Subspace**\n",
        "* Result of a linear combination\n",
        "* A **linear subspace** V if a subset U ⊆ V that is closed under vector addition and scalar multiplication\n",
        "* So for all u1, u2 ∈ U and α ∈ R, it satisfies that u1 + u2 ∈ U, and α u1 ∈ U."
      ],
      "metadata": {
        "id": "0bYG7jPf567e"
      }
    },
    {
      "cell_type": "code",
      "source": [
        "# Example of linear combination, resulting in linear subspace:\n",
        "\n",
        "v = np.array([[0, 1, 2]])\n",
        "w = np.array([[4, 3, -2]])\n",
        "u = np.array([[3, 5, 7]])\n",
        "\n",
        "# Performing linear combination:\n",
        "x = 3*v-2*w+4*u\n",
        "\n",
        "#Resulting linear subspace:\n",
        "print(x)"
      ],
      "metadata": {
        "colab": {
          "base_uri": "https://localhost:8080/"
        },
        "id": "2Gx7FeeW30O4",
        "outputId": "7c6f9335-0b4b-48f1-880d-b07c9e424d3b"
      },
      "execution_count": 8,
      "outputs": [
        {
          "output_type": "stream",
          "name": "stdout",
          "text": [
            "[[ 4 17 38]]\n"
          ]
        }
      ]
    },
    {
      "cell_type": "markdown",
      "source": [
        "**Span**\n",
        "* Set of all linear combinations for a subspace of vectors\n",
        "* A **span** is also a linear subspace\n",
        "\n",
        "**Column Space**\n",
        "* The **column space** of a matrix A is the span (set of all possible linear combinations) of its columns\n",
        "* Denoted by col(A)\n",
        "* The dimension of the column space of A is known as the **rank** of A\n",
        "\n",
        "**Linear Independence**\n",
        "* A set of vectors is **linearly independent** if none of them can be written as a linear combination of the others\n",
        "* If the determinant of a matrix is not zero, the vectors are linearly independent\n",
        "* The vectors are **linearly dependent** otherwise\n"
      ],
      "metadata": {
        "id": "IZvGIsrABikX"
      }
    },
    {
      "cell_type": "code",
      "source": [
        "# Using python to evaluate determinant of vector matrix to determine linear dependence:\n",
        "\n",
        "V = np.array([[1, 4, 0], [10, 2, 1], [-5, 0, 6]])\n",
        "print(np.linalg.det(V)) # Non-zero determinant, vectors are linearly independent\n",
        "\n",
        "W = np.array([[0, 0, 0], [1, 1, 1], [3, 3, 3]])\n",
        "print(np.linalg.det(W)) # Zero determinant, vectors are linearly dependent"
      ],
      "metadata": {
        "colab": {
          "base_uri": "https://localhost:8080/"
        },
        "id": "_D0Ed6V7Bd0g",
        "outputId": "7ab2e464-cbb7-4792-d3b8-2b796d0d38ca"
      },
      "execution_count": 9,
      "outputs": [
        {
          "output_type": "stream",
          "name": "stdout",
          "text": [
            "-247.99999999999986\n",
            "0.0\n"
          ]
        }
      ]
    },
    {
      "cell_type": "markdown",
      "source": [
        "**Basis of a Space**\n",
        "* For a linear subspace U, a **basis** is a list of vectors u1, ..., um in U that:\n",
        "* 1) span U --> U = span (u1, ..., um)\n",
        "* 2) are linearly independent\n",
        "* Any basis of U will always have the same number of elements\n",
        "\n",
        "**Dimension Theorem**\n",
        "* For a linear subspace U of V, all bases of U have the same length, or the same number of elements\n",
        "* This number is called the **dimension** of U\n",
        "* Denoted as dim(U)\n",
        "\n",
        "**Orthonormal Bases**\n",
        "* A list of vectors {u1, ..., um} is **orthonormal** if the vectors are pairwise *orthogonal* (vector pairs are perpendicular to eachother - separated by 90 deg or pi/2 rad angle) and each has norm 1\n",
        "* So for all i and all j =/= i, the dot product of ui and ij, <ui, uj> = 0, and ||ui|| = 1"
      ],
      "metadata": {
        "id": "kiGujCO3FG23"
      }
    },
    {
      "cell_type": "code",
      "source": [
        "# Analyzing orthogonality of vectors:\n",
        "from numpy import arccos, dot\n",
        "from numpy.linalg import norm\n",
        "\n",
        "v = np.array([[1, 6, 3]])\n",
        "w = np.array([[2, 7, 5]])\n",
        "\n",
        "angle = arccos(dot(v, w.T)/(norm(v)*norm(w)))\n",
        "\n",
        "print(angle) # vectors v and w are not orthogonal"
      ],
      "metadata": {
        "colab": {
          "base_uri": "https://localhost:8080/"
        },
        "id": "uorrWl7UE2OP",
        "outputId": "064d1e16-492d-43bf-be06-b58bddcfee0e"
      },
      "execution_count": 11,
      "outputs": [
        {
          "output_type": "stream",
          "name": "stdout",
          "text": [
            "[[0.17355944]]\n"
          ]
        }
      ]
    },
    {
      "cell_type": "markdown",
      "source": [
        "**Best Approximation Theorem**\n",
        "* For a linear subspace U of V, and a vector v not in U, we want to find the vector v' in U that is closest to v in the norm\n",
        "* Solving min ||v' - v||\n",
        "* Additionally, let a U be a linear subspace of V with orthonormal basis q1, ..., qm; and let v be a vector in V\n",
        "* For any vector u in U, ||v - P_U(v)|| <= ||v - u||, where P_U(v) is the **orthogonal projection** of vector v on subspace U\n",
        "\n",
        "**Orthogonal Projection**\n",
        "* Let U be a linear subspace of V with orthonormal basis q1, ..., qm, and let v be a vector in V\n",
        "* The **orthogonal projection** of v on U is defined as: P_U(v) = Summation from j=1 to m[ <v, q_j>q_j]\n",
        "\n",
        "**Pythagorean Theorem**\n",
        "* Let u, v ∈ V be orthogonal\n",
        "* Then ∥u+v∥^2 = ∥u∥^2 + ∥v∥^2\n",
        "\n",
        "**Cauchy-Schwarz**\n",
        "* For any u, v ∈ V: |<u, v>| <= ||u|| ||v||\n",
        "\n",
        "**Orthogonal Decomposition**\n",
        "* Let U be a linear subspace of V with orthonormal basis q1, ..., qm, and let v ∈ V\n",
        "* For any u ∈ U, <v - P_U(v), u> = 0\n",
        "* Thus, vector v can be *decomposed* as (v - P_U(v)) + P_U(v)\n",
        "* These two terms are orthogonal\n",
        "\n",
        "**Gram-Schmidt Process**\n",
        "* Let a set of vectors a1, ..., am be linearly independent\n",
        "* Then there exists an orthonormal basis q1, ..., qm of span(a1, ..., am)\n",
        "* Essentially adding vectors a_i one by one, but only *after* taking out their orthogonal projection on the previous vectors\n",
        "\n",
        "**Eigenvalues and Eigenvectors**\n",
        "* Let A ∈ R^(d x d) be a square matrix\n",
        "* Then 𝜆 ∊ R is an **eigenvalue** of A is there exists a nonzero vector x =/= 0 such that: Ax = 𝜆x\n",
        "* The vector x is referred to as an **eigenvector**\n"
      ],
      "metadata": {
        "id": "ZG2FWARgOMFV"
      }
    },
    {
      "cell_type": "code",
      "source": [
        "# Using Python to find eigenvalues and eigenvectors of a matrix\n",
        "from numpy.linalg import eig\n",
        "\n",
        "A = np.array([[2, 2, 4],\n",
        "              [1, 3, 5],\n",
        "              [2, 3, 4]])\n",
        "l,x=eig(A)\n",
        "print('E-value:', l)\n",
        "print('E-vector', x)"
      ],
      "metadata": {
        "colab": {
          "base_uri": "https://localhost:8080/"
        },
        "id": "VNyG0YG4N3i4",
        "outputId": "5f00601a-9215-42db-8e56-e744b504e35b"
      },
      "execution_count": 12,
      "outputs": [
        {
          "output_type": "stream",
          "name": "stdout",
          "text": [
            "E-value: [ 8.80916362  0.92620912 -0.73537273]\n",
            "E-vector [[-0.52799324 -0.77557092 -0.36272811]\n",
            " [-0.604391    0.62277013 -0.7103262 ]\n",
            " [-0.59660259 -0.10318482  0.60321224]]\n"
          ]
        }
      ]
    },
    {
      "cell_type": "markdown",
      "source": [
        "**Diagonalization of Symmetric Matrices**\n",
        "* Let A be similar to a matrix D = diag(𝜆1,...,𝜆d) with distinct diagonal entries\n",
        "* There exists a non-singular matrix A such that A = PDP^-1\n",
        "* Then AP = PD\n",
        "* Let p1, ..., pd be the columns of P\n",
        "* Then Api = 𝜆ipi\n",
        "* If A is symmetric, then any 2 eigenvectors from different eigenspaces are orthogonal\n",
        "\n",
        "**Spectral Theorem for Symmetric Matrices**\n",
        "\n",
        "An n x m **symmetric** matrix A has the following properties:\n",
        "* A has *n* real eigenvalues, counting multiplicities\n",
        "* If 𝜆 is an eigenvalue of A with multiplicity *k*, then the eigenspace for 𝜆 is *k*-dimensional\n",
        "* The eigenspaces are mutually orthogonal --> eigenvectors corresponding to different eigenvalues are orthogonal\n",
        "* A is orthogonally diagonalizable"
      ],
      "metadata": {
        "id": "3sAjfQIuXVko"
      }
    },
    {
      "cell_type": "markdown",
      "source": [
        "____\n",
        "## Linear Regression ##\n",
        "___"
      ],
      "metadata": {
        "id": "IRFy3st0ZKVr"
      }
    },
    {
      "cell_type": "markdown",
      "source": [
        "**QR Decomposition**\n",
        "* Used to solve the linear least-squares problem\n",
        "* An iterative method for finding the eigenvalues of a matrix\n",
        "* Results in an upper triangular matrix where the diagonal values are the eigenvalues of the matrix"
      ],
      "metadata": {
        "id": "BdiamnLuZOxI"
      }
    },
    {
      "cell_type": "code",
      "source": [
        "# Using QR function in Python to find eigenvalues of matrix A\n",
        "from numpy.linalg import qr\n",
        "\n",
        "A = np.array([[1, 4],\n",
        "              [3, 2]])\n",
        "\n",
        "q, r = qr(A)\n",
        "\n",
        "print('Q: \\n', q)\n",
        "print('R: \\n', r)\n",
        "\n",
        "b = np.dot(q, r)\n",
        "print('QR: \\n', b)\n",
        "\n",
        "print('RQ: \\n', np.dot(r, q))"
      ],
      "metadata": {
        "colab": {
          "base_uri": "https://localhost:8080/"
        },
        "id": "klZPHY5aW2Ux",
        "outputId": "a81fb1fa-4bea-46ac-e492-ec94e32725bd"
      },
      "execution_count": 18,
      "outputs": [
        {
          "output_type": "stream",
          "name": "stdout",
          "text": [
            "Q: \n",
            " [[-0.31622777 -0.9486833 ]\n",
            " [-0.9486833   0.31622777]]\n",
            "R: \n",
            " [[-3.16227766 -3.16227766]\n",
            " [ 0.         -3.16227766]]\n",
            "QR: \n",
            " [[1. 4.]\n",
            " [3. 2.]]\n",
            "RQ: \n",
            " [[ 4.  2.]\n",
            " [ 3. -1.]]\n"
          ]
        }
      ]
    },
    {
      "cell_type": "code",
      "source": [
        "# Showing use of QR method to find eigenvalues of matrix A\n",
        "\n",
        "A = np.array([[1, 4],\n",
        "              [3, 2]])\n",
        "p = [1, 5, 10, 20] # will be printing 1st, 5th, 10th, and 20th iterations of QR method\n",
        "\n",
        "for i in range(20):\n",
        "    q, r = qr(A)\n",
        "    A = np.dot(r, q)\n",
        "    if i+1 in p:\n",
        "        print(f'Iteration {i+1}:')\n",
        "        print(A)\n",
        "# Will eventually converge to the correct eigenvalues"
      ],
      "metadata": {
        "colab": {
          "base_uri": "https://localhost:8080/"
        },
        "id": "VSeWXkV1b4IA",
        "outputId": "e9d81ea1-a1db-4dba-81b9-0798d00add3b"
      },
      "execution_count": 17,
      "outputs": [
        {
          "output_type": "stream",
          "name": "stdout",
          "text": [
            "Iteration 1:\n",
            "[[ 4.  2.]\n",
            " [ 3. -1.]]\n",
            "Iteration 5:\n",
            "[[ 5.01096304 -0.91609917]\n",
            " [ 0.08390083 -2.01096304]]\n",
            "Iteration 10:\n",
            "[[ 4.99987756e+00  1.00085631e+00]\n",
            " [ 8.56307123e-04 -1.99987756e+00]]\n",
            "Iteration 20:\n",
            "[[ 4.99999999e+00  1.00000009e+00]\n",
            " [ 8.97934493e-08 -1.99999999e+00]]\n"
          ]
        }
      ]
    },
    {
      "cell_type": "markdown",
      "source": [
        "**Least Square Regression**\n",
        "* Given a set of independent data points *xi* and dependent data points *yi*, want to find an **estimation function** y_hat(x) that describes the data as well as possible\n",
        "* Estimation function must be a linear combination of **basis functions**, f_i(x)\n",
        "* Goal of **least squares regression** is to find parameters of the estimation function that minimize the **total squared error, E**\n",
        "* E = SUM [(y_hat - y_i)^2]\n",
        "* **Individual errors**, or **residuals**, are defined as e_i = (y_hat - y_i)\n",
        "* If e is a vector containing all the individual errors, the we are trying to minimize E = ||e||2"
      ],
      "metadata": {
        "id": "g3lpcUZdfGbX"
      }
    },
    {
      "cell_type": "code",
      "source": [
        "# Using Python to perform Least Squares Regression\n",
        "from scipy import optimize\n",
        "import matplotlib.pyplot as plt\n",
        "\n",
        "# generate sets of data points, x and y\n",
        "x = np.linspace(0, 1, 101)\n",
        "y = 1 + x + x * np.random.random(len(x))\n",
        "\n",
        "# assemble matrix A\n",
        "A = np.vstack([x, np.ones(len(x))]).T\n",
        "\n",
        "# turn y into a column vector\n",
        "y = y[:, np.newaxis]\n",
        "\n",
        "# perform direct least square regression\n",
        "alpha = np.dot((np.dot(np.linalg.inv(np.dot(A.T,A)),A.T)),y)\n",
        "print(alpha)\n",
        "\n",
        "# plot the results\n",
        "plt.figure(figsize = (10,8))\n",
        "plt.plot(x, y, 'b.')\n",
        "plt.plot(x, alpha[0]*x + alpha[1], 'r')\n",
        "plt.xlabel('x')\n",
        "plt.ylabel('y')\n",
        "plt.title('Least Squares Regression')\n",
        "plt.grid(True)\n",
        "plt.show()"
      ],
      "metadata": {
        "colab": {
          "base_uri": "https://localhost:8080/",
          "height": 721
        },
        "id": "W6ZNE6SbdE-X",
        "outputId": "7a8153ec-60f3-4456-ca5c-74044609957c"
      },
      "execution_count": 19,
      "outputs": [
        {
          "output_type": "stream",
          "name": "stdout",
          "text": [
            "[[1.52292937]\n",
            " [0.98750817]]\n"
          ]
        },
        {
          "output_type": "display_data",
          "data": {
            "text/plain": [
              "<Figure size 1000x800 with 1 Axes>"
            ],
            "image/png": "[encoded data removed]"
          },
          "metadata": {}
        }
      ]
    }
  ]
}