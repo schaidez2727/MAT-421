{
  "nbformat": 4,
  "nbformat_minor": 0,
  "metadata": {
    "colab": {
      "provenance": [],
      "authorship_tag": "ABX9TyNRWDRznQQBsJsRNAckGpr0",
      "include_colab_link": true
    },
    "kernelspec": {
      "name": "python3",
      "display_name": "Python 3"
    },
    "language_info": {
      "name": "python"
    }
  },
  "cells": [
    {
      "cell_type": "markdown",
      "metadata": {
        "id": "view-in-github",
        "colab_type": "text"
      },
      "source": [
        "<a href=\"https://colab.research.google.com/github/schaidez2727/MAT-421/blob/main/ModuleC_MAT421_Chaidez.ipynb\" target=\"_parent\"><img src=\"https://colab.research.google.com/assets/colab-badge.svg\" alt=\"Open In Colab\"/></a>"
      ]
    },
    {
      "cell_type": "markdown",
      "source": [
        "# Module C (HW 4) - MAT 421 #\n",
        "#### Santana Chaidez ####"
      ],
      "metadata": {
        "id": "fzhAtW1Nz1Gd"
      }
    },
    {
      "cell_type": "markdown",
      "source": [
        "____\n",
        "## Root Finding Problem Statement ##\n",
        "___"
      ],
      "metadata": {
        "id": "1qU3s3HRgLxT"
      }
    },
    {
      "cell_type": "markdown",
      "source": [
        "* **Root**, or **zero**, of a function == x_r such that f(x_r) = 0\n",
        "* Finding the roots of a function aid in many engineering applications, such as signal processing and process optimization.\n",
        "* Root finding is a simple process for quadratic functions, but can be difficult for more complex/higher-order functions.\n",
        "* Can be done analytically, or using numerical approximations.\n",
        "\n",
        "Let's do an example of numerical approximation for root finding, and then verify that the solution is a root:"
      ],
      "metadata": {
        "id": "BFDdCJ_pTAdd"
      }
    },
    {
      "cell_type": "code",
      "execution_count": 21,
      "metadata": {
        "id": "yuMAWizFMqzU",
        "colab": {
          "base_uri": "https://localhost:8080/"
        },
        "outputId": "cefb0518-a2cf-4572-dacb-bb94e20cc79e"
      },
      "outputs": [
        {
          "output_type": "stream",
          "name": "stdout",
          "text": [
            "x_r = [0.45018361]\n",
            "f(x_r) =  [-0.]\n"
          ]
        }
      ],
      "source": [
        "# An example of using numerical approximation to find the root of the function cos(x) - 2x near -1\n",
        "\n",
        "import numpy as np\n",
        "# importing Python library, NumPy, which fascilitates various forms of scientific computing\n",
        "from scipy import optimize\n",
        "# importing SciPy library so we can use fsolve function to compute the root of a function near a value\n",
        "\n",
        "f = lambda x: np.cos(x) - 2*x # define the function\n",
        "x_r = optimize.fsolve(f, -1) # approximate the root\n",
        "print(\"x_r =\", x_r)\n",
        "\n",
        "f_r = f(x_r) # verify the root value approximation\n",
        "soln = np.round(f_r, 10)\n",
        "print(\"f(x_r) = \", soln)"
      ]
    },
    {
      "cell_type": "markdown",
      "source": [
        "The example shows that the root was successfully approximated. Before rounding, the solution produced by the function by inputting the root is a very small value, -3.1086e-15. So it is very close to zero, as seen with the high amount of digits we rounded to.\n",
        "\n",
        "Now let's test fsolve on a function that has no roots: f(x) = 1/x^(1/2)"
      ],
      "metadata": {
        "id": "IxpSwipzXTeq"
      }
    },
    {
      "cell_type": "code",
      "source": [
        "# Using numerical approximation on a function with no roots\n",
        "\n",
        "f = lambda x: 1/x**(1/2) # define the function\n",
        "x_r, infodict, ier, mesg = optimize.fsolve(f, 10, full_output=True) # approximate the root, set full_output to True\n",
        "print(\"x_r = \", x_r)\n",
        "\n",
        "result = f(x_r) # verify the result\n",
        "print(\"f(x_r) = \", result)\n",
        "\n",
        "print(mesg) # show full_output message"
      ],
      "metadata": {
        "colab": {
          "base_uri": "https://localhost:8080/"
        },
        "id": "jVvzhq8FWb_o",
        "outputId": "ae4ea148-4ef9-49f9-f4ca-6562cb14db14"
      },
      "execution_count": 22,
      "outputs": [
        {
          "output_type": "stream",
          "name": "stdout",
          "text": [
            "x_r =  [8.81854734e+120]\n",
            "f(x_r) =  [3.36745247e-61]\n",
            "The number of calls to function has reached maxfev = 400.\n"
          ]
        }
      ]
    },
    {
      "cell_type": "markdown",
      "source": [
        "As we can see, because we tirned on full_output, we recieved information about out output in the message. A message is returned if no solution is reached, and we recieve this message telling us that a solution was not being found in a reasonable amount of iterations."
      ],
      "metadata": {
        "id": "9VKF-6S3Zbx0"
      }
    },
    {
      "cell_type": "markdown",
      "source": [
        "____\n",
        "## Tolerance ##\n",
        "___"
      ],
      "metadata": {
        "id": "DnIZKxukZ02J"
      }
    },
    {
      "cell_type": "markdown",
      "source": [
        "* **Tolerance** is the level of error deemed acceptable in an engineering application, where **error** is the deviation from an expected/computed value.\n",
        "* Once a computer program has found a solution with an error smaller than the set tolerance, it has **converged** to a solution.\n",
        "* Choosing how to measure the error and setting the tolerance must be done with careful consideration of the applicational purposes and nuances of the programs being used in order to ensure appropriate results.\n",
        "\n",
        "Let's practice setting tolerance and calculating error using the function with no roots, 1/x:"
      ],
      "metadata": {
        "id": "du8NKIo0Z0Vi"
      }
    },
    {
      "cell_type": "code",
      "source": [
        "# Using tolerance and error on numerical approximation ona function with no roots\n",
        "\n",
        "f = lambda x: 1/x # define the function\n",
        "\n",
        "x_r, infodict, ier, mesg = optimize.fsolve(f, -2, xtol=.1, full_output=True)\n",
        "# approximate the root, turn on full_output, set tolerance to 0.1\n",
        "print(\"x_r =\", x_r)\n",
        "\n",
        "error = f(x_r) # calculating error as distance of solution from zero\n",
        "print(\"error value\", error)\n",
        "\n",
        "print(mesg) # show full_output message"
      ],
      "metadata": {
        "colab": {
          "base_uri": "https://localhost:8080/"
        },
        "id": "DU2R2aIzZUiR",
        "outputId": "ca51af2c-4001-4d48-801e-d8317b224392"
      },
      "execution_count": 23,
      "outputs": [
        {
          "output_type": "stream",
          "name": "stdout",
          "text": [
            "x_r = [-3.52047359e+83]\n",
            "error value [-2.84052692e-84]\n",
            "The number of calls to function has reached maxfev = 400.\n"
          ]
        }
      ]
    },
    {
      "cell_type": "markdown",
      "source": [
        "As we can see, the program has attempted to converge to a very large number as the root, due to the function 1/x being asymptotic to the x-axis as the function approached f(x) = 0."
      ],
      "metadata": {
        "id": "tOm3nzN9fFN9"
      }
    },
    {
      "cell_type": "markdown",
      "source": [
        "____\n",
        "## Bisection Method ##\n",
        "___"
      ],
      "metadata": {
        "id": "z7NOqUqdfjTb"
      }
    },
    {
      "cell_type": "markdown",
      "source": [
        "* The **bisection method** uses the **intermediate value theorem** to find roots.\n",
        "* **Intermediate value theorem** (IVT): if f(x) is a continuous function between *a* and *b*, and f(a) =/= f(b), then there must be a value *c* such that *a* < *c* < *b* and f(c) = 0.\n",
        "* For the bisection method, *a* and *b* are real scalar values such that *a* < *b*. Assume f(a) > 0 and f(b) < 0.\n",
        "* The bisection method calculates the midpoint between these these two points, f(m = (b+a)/2).\n",
        "* If f(m) is within tolerance and converges to zero, m is declared the root.\n",
        "* If f(m) is outside tolerance and positive, it becomes the new left bound, a.\n",
        "If f(m) is outside the tolerance and negative, it becomes the new right bound, b.\n",
        "\n",
        "Let's set up a function to carry out this process."
      ],
      "metadata": {
        "id": "zImvoXNyfrs3"
      }
    },
    {
      "cell_type": "code",
      "source": [
        "def my_bisection(f, a, b, tol):\n",
        "    # approximates a root, r, of f bounded\n",
        "    # by a and b to within tolerance\n",
        "    # | f(m) | < tol with the midpoint\n",
        "    # m between a and b\n",
        "\n",
        "    # check if a and b bound a root\n",
        "    if np.sign(f(a)) == np.sign(f(b)):\n",
        "        raise Exception(\n",
        "         \"The scalar values a and b do not bound a root\")\n",
        "\n",
        "    # calculate midpoint b/w bounds a and b\n",
        "    m = (a + b)/2\n",
        "\n",
        "    if np.abs(f(m)) < tol:\n",
        "        # stopping condition, report m as root\n",
        "        return m\n",
        "    elif np.sign(f(a)) == np.sign(f(m)):\n",
        "        # case where m is an improvement on left bound, a\n",
        "        # make recursive call with a = m\n",
        "        return my_bisection(f, m, b, tol)\n",
        "    elif np.sign(f(b)) == np.sign(f(m)):\n",
        "        # case where m is an improvement on right bound, b\n",
        "        # make recursive call with b = m\n",
        "        return my_bisection(f, a, m, tol)"
      ],
      "metadata": {
        "id": "5G6HmfJte9md"
      },
      "execution_count": 24,
      "outputs": []
    },
    {
      "cell_type": "code",
      "source": [
        "# Use bisection method function on function f(x) = x^2 - 1\n",
        "\n",
        "f = lambda x: x**2 - 2 # define function f\n",
        "\n",
        "r1 = my_bisection(f, 0, 2, 0.1) # performing bisection w/ higher tolerance, 0.1\n",
        "print(\"r1 =\", r1)\n",
        "r01 = my_bisection(f, 0, 2, 0.01) # performing bisection w/ lower tolerance, 0.01\n",
        "print(\"r01 =\", r01)\n",
        "\n",
        "print(\"f(r1) =\", f(r1))\n",
        "print(\"f(r01) =\", f(r01))"
      ],
      "metadata": {
        "colab": {
          "base_uri": "https://localhost:8080/"
        },
        "id": "2OZMmLsKx4iD",
        "outputId": "073f005f-9743-4b08-86f9-c15355d49a28"
      },
      "execution_count": 25,
      "outputs": [
        {
          "output_type": "stream",
          "name": "stdout",
          "text": [
            "r1 = 1.4375\n",
            "r01 = 1.4140625\n",
            "f(r1) = 0.06640625\n",
            "f(r01) = -0.00042724609375\n"
          ]
        }
      ]
    },
    {
      "cell_type": "markdown",
      "source": [
        "As we can see, both approximated roots do produce a value close to zero, but the bisection with a lower set tolerance produces a mmore accurate root/solution than the bisection with a higher tolerance."
      ],
      "metadata": {
        "id": "adRiRVsyzNHK"
      }
    },
    {
      "cell_type": "markdown",
      "source": [
        "____\n",
        "## Newton-Raphson Method ##\n",
        "___"
      ],
      "metadata": {
        "id": "wzdxNpH6zmcv"
      }
    },
    {
      "cell_type": "markdown",
      "source": [
        "* The **Newton-Raphson method** finds the unknown root x_r of a continuous funnction f(x) by beginning with a guess for the root, x_0.\n",
        "* Taking the linear approximation of f(x) around x_0, we can find the intersection of this line with the x-axis. This becomes our improved guess, x_1:\n",
        "\n",
        "f(x) ~= f(x_0) + f'(x_0)(x - x_0); f(x_1) = 0 --> x_1 = x_0 - f(x_0)/f'(x_0)\n",
        "* This is a **Newton step**.\n",
        "* The Newton-Raphson method iterates Newton steps from x_0 until the error is less than the tolerance.\n",
        "\n",
        "Let's try this method on the function f(x) = x^2 - 1, which has a zero of 1^(1/2) = 1:"
      ],
      "metadata": {
        "id": "L59RJDTKzyuv"
      }
    },
    {
      "cell_type": "code",
      "source": [
        "# Use Newton-Raphson method on function f(x) = x^2 - 1\n",
        "\n",
        "f = lambda x: x**2 - 1 # define function f(x)\n",
        "f_prime = lambda x: 2*x # define derivative f'(x) as slope for linear approximation\n",
        "newton_raphson = 1.4 - (f(1.4))/(f_prime(1.4)) # perform Newton step to find new root guess\n",
        "\n",
        "print(\"newton_raphson = \", newton_raphson)\n",
        "print(\"sqrt(1) = \", np.sqrt(1)) # compare Newton-Raphson value with known root value"
      ],
      "metadata": {
        "colab": {
          "base_uri": "https://localhost:8080/"
        },
        "id": "mdFSubkLzCDJ",
        "outputId": "e254c9d6-591f-4a44-8a69-c7efdbaeb811"
      },
      "execution_count": 26,
      "outputs": [
        {
          "output_type": "stream",
          "name": "stdout",
          "text": [
            "newton_raphson =  1.0571428571428572\n",
            "sqrt(1) =  1.0\n"
          ]
        }
      ]
    },
    {
      "cell_type": "markdown",
      "source": [
        "Define a function to perform Newton-Raphson method iteratively until solution is within a specified tolerance:"
      ],
      "metadata": {
        "id": "8LohcSCQ-LXs"
      }
    },
    {
      "cell_type": "code",
      "source": [
        "def my_newton(f, df, x0, tol):\n",
        "    # output is an estimation of the root of f using the Newton Raphson method\n",
        "    # recursive implementation\n",
        "    if abs(f(x0)) < tol: # calculating error as |f(x0)| and checking if it is w/in tolerance\n",
        "        return x0 # if error is w/in tolerance, return root guess as converged approximation\n",
        "    else:\n",
        "        return my_newton(f, df, x0 - f(x0)/df(x0), tol)\n",
        "        # if not w/in tolerance, perform another iteration w/ a new guess\n",
        "        # by performing another Newton step"
      ],
      "metadata": {
        "id": "yTtVy_v7-BpL"
      },
      "execution_count": 27,
      "outputs": []
    },
    {
      "cell_type": "code",
      "source": [
        "# Using Newton-Raphson function to compute root for f(x) = x^2 - 1.5\n",
        "# to within a tolerance of 1e-6, with initial guess of x_0 = 1.5\n",
        "\n",
        "f = lambda x: x**2 - 1.5 # define function f(x)\n",
        "f_prime = lambda x: 2*x # define derivative f'(x) as slope for linear approximation\n",
        "\n",
        "estimate = my_newton(f, f_prime, 1.5, 1e-6) # input f(x), f'(x), x0, and tolerance into function\n",
        "print(\"estimate = \", estimate) #display estimate from function\n",
        "print(\"sqrt(1.5) = \", np.sqrt(1.5)) # compare with know root value"
      ],
      "metadata": {
        "colab": {
          "base_uri": "https://localhost:8080/"
        },
        "id": "jO5GZhEC_FyD",
        "outputId": "14a4bf01-cdb1-4a63-d3a9-c627d108c155"
      },
      "execution_count": 28,
      "outputs": [
        {
          "output_type": "stream",
          "name": "stdout",
          "text": [
            "estimate =  1.2247448979591837\n",
            "sqrt(1.5) =  1.224744871391589\n"
          ]
        }
      ]
    },
    {
      "cell_type": "markdown",
      "source": [
        "The function successfully converged to a solution that is very close to the actual root value!"
      ],
      "metadata": {
        "id": "WEx1NOi3APFc"
      }
    },
    {
      "cell_type": "markdown",
      "source": [
        "____\n",
        "## Root Finding in Python ##\n",
        "___"
      ],
      "metadata": {
        "id": "X1QzrJprAeFh"
      }
    },
    {
      "cell_type": "markdown",
      "source": [
        "Let us briefly test out one of Python's existing root-finding functions from the SciPy library, *fsolve*, to find the roots of a higher-order polynomial function."
      ],
      "metadata": {
        "id": "FeDnn8baAw4l"
      }
    },
    {
      "cell_type": "code",
      "source": [
        "from scipy.optimize import fsolve\n",
        "# importing existing root-finding function, fsolve\n",
        "\n",
        "# Use fsolve on cubic polynomial f(x) = x^3 - 75x^2 - 20x + 10\n",
        "# which has two roots: x = -0.51965 and x = 0.25568\n",
        "\n",
        "f = lambda x: x**3 - 75*x**2 - 20*x +10\n",
        "\n",
        "fsolve(f, [-1, 1]) # setting arguments for initial guesses for roots, x0 = [-1, 1]"
      ],
      "metadata": {
        "colab": {
          "base_uri": "https://localhost:8080/"
        },
        "id": "O1qQ91_dAFIp",
        "outputId": "53f0ebd8-6786-4341-e879-ff8c995eaed4"
      },
      "execution_count": 29,
      "outputs": [
        {
          "output_type": "execute_result",
          "data": {
            "text/plain": [
              "array([-0.51964943,  0.25568335])"
            ]
          },
          "metadata": {},
          "execution_count": 29
        }
      ]
    },
    {
      "cell_type": "markdown",
      "source": [
        "As we can see, it did find the roots. But this function works best when the number of roots are known and the guesses are appropriately close to the actual roots."
      ],
      "metadata": {
        "id": "YxQjYBEnDrcf"
      }
    }
  ]
}