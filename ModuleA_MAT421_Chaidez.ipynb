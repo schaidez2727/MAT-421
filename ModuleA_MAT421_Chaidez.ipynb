{
  "nbformat": 4,
  "nbformat_minor": 0,
  "metadata": {
    "colab": {
      "provenance": [],
      "authorship_tag": "ABX9TyP/czuxvHBpUmPpIJ44b9G3",
      "include_colab_link": true
    },
    "kernelspec": {
      "name": "python3",
      "display_name": "Python 3"
    },
    "language_info": {
      "name": "python"
    }
  },
  "cells": [
    {
      "cell_type": "markdown",
      "metadata": {
        "id": "view-in-github",
        "colab_type": "text"
      },
      "source": [
        "<a href=\"https://colab.research.google.com/github/schaidez2727/MAT-421/blob/main/ModuleA_MAT421_Chaidez.ipynb\" target=\"_parent\"><img src=\"https://colab.research.google.com/assets/colab-badge.svg\" alt=\"Open In Colab\"/></a>"
      ]
    },
    {
      "cell_type": "markdown",
      "source": [
        "# Module A (HW 1) - MAT 421 #\n",
        "#### Santana Chaidez ####"
      ],
      "metadata": {
        "id": "fzhAtW1Nz1Gd"
      }
    },
    {
      "cell_type": "markdown",
      "source": [
        "***\n",
        "## **Base-N and Binary** ##\n",
        "***"
      ],
      "metadata": {
        "id": "xzyi_hVr0AV0"
      }
    },
    {
      "cell_type": "code",
      "execution_count": 1,
      "metadata": {
        "id": "uXmaemXIztkr"
      },
      "outputs": [],
      "source": [
        "import numpy as np\n",
        "# importing Python library, NumPy, which fascilitates various forms of scientific computing"
      ]
    },
    {
      "cell_type": "markdown",
      "source": [
        "### Base-10 / Decimal System: ###\n",
        "* The most commonly used numeric system, and the decimal system that we all learn, is a **base-10** system that uses the digits 0-9 as coefficients for various powers of 10\n",
        "* This understanding of the base-10 system can be used to also understand any other **base-N** system, where each number in the system is represented by the list of digits 0-(N-1) and each digit represents the coefficient for a power of N"
      ],
      "metadata": {
        "id": "pLDxBIMY0GqD"
      }
    },
    {
      "cell_type": "code",
      "source": [
        "# Decimal expansion of 1234.56 (base-10)\n",
        "1234.56 == 1*10**(3) + 2*10**(2) + 3*10**(1) + 4*10**(0) + 5*10**(-1) + 6*10**(-2)\n",
        "# ^^ Shows each digit of 1234.56 (base-10) as a coefficient of a descending power of 10"
      ],
      "metadata": {
        "colab": {
          "base_uri": "https://localhost:8080/"
        },
        "id": "fuIw9sqA0ENp",
        "outputId": "dd0c8077-8619-40ef-b2af-b8bba97ce9d6"
      },
      "execution_count": 2,
      "outputs": [
        {
          "output_type": "execute_result",
          "data": {
            "text/plain": [
              "True"
            ]
          },
          "metadata": {},
          "execution_count": 2
        }
      ]
    },
    {
      "cell_type": "markdown",
      "source": [
        "### Misc. Base-N Decompositions into Base-10 ###"
      ],
      "metadata": {
        "id": "ufk6JiVV0Rdc"
      }
    },
    {
      "cell_type": "code",
      "source": [
        "# 102 (base-3) = 11 (base-10)\n",
        "1*3**(2) + 0*3**(1) + 2*3**(0) == 11"
      ],
      "metadata": {
        "colab": {
          "base_uri": "https://localhost:8080/"
        },
        "id": "bR3JSN310NcA",
        "outputId": "073046ea-1b35-4b43-afe5-67b38c2a713c"
      },
      "execution_count": 3,
      "outputs": [
        {
          "output_type": "execute_result",
          "data": {
            "text/plain": [
              "True"
            ]
          },
          "metadata": {},
          "execution_count": 3
        }
      ]
    },
    {
      "cell_type": "code",
      "source": [
        "# 13 (base-13) = 16 (base-10)\n",
        "1*13**(1) + 3*13**(0) == 16"
      ],
      "metadata": {
        "colab": {
          "base_uri": "https://localhost:8080/"
        },
        "id": "OrQJgjy60XPz",
        "outputId": "2406b9de-6e16-43e6-9612-2d7b171507a8"
      },
      "execution_count": 4,
      "outputs": [
        {
          "output_type": "execute_result",
          "data": {
            "text/plain": [
              "True"
            ]
          },
          "metadata": {},
          "execution_count": 4
        }
      ]
    },
    {
      "cell_type": "markdown",
      "source": [
        "### Base-2 / Binary: ###\n",
        "* **Binary**, the representation of numbers commonly used by computers, is actually a **base-2** system\n",
        "* The system represents numbers using the digits 0 and 1, which each represent the coefficient for a power of 2\n",
        "* Computers benefit from using only digits 0 and 1 since they can also act as boolean/true-false indicators, and additionally can have arithmetic operations represented using AND, OR, and NOT\n",
        "* Faster and more efficient for computers in many ways, but limits amount of numbers able to be represented depending on amount of bits the computer has\n",
        "\n",
        "### Base-10 to Binary Conversion ###"
      ],
      "metadata": {
        "id": "Bfe6dFGE0ers"
      }
    },
    {
      "cell_type": "code",
      "source": [
        "# First want to separate the base-10 number into a sum of powers of 2\n",
        "# e.g. 2^0=1, 2^1=2, 2^2=4, 2^3=8, 2^4=16, 2^5=32, 2^6=64, etc.\n",
        "\n",
        "#Decomposition of 27(base-10) into powers of 2:\n",
        "27 == 16 + 8 + 2 + 1"
      ],
      "metadata": {
        "colab": {
          "base_uri": "https://localhost:8080/"
        },
        "id": "Jy4XDFPu0Y8r",
        "outputId": "ee7ed869-5033-49d3-fe7a-1235785f8687"
      },
      "execution_count": 5,
      "outputs": [
        {
          "output_type": "execute_result",
          "data": {
            "text/plain": [
              "True"
            ]
          },
          "metadata": {},
          "execution_count": 5
        }
      ]
    },
    {
      "cell_type": "code",
      "source": [
        "# Next, want to identify the higest power of 2 used and identify the coeffcient for each consecutive power in descending order\n",
        "# For 27 (base-10), the highest power of 2 it contains is 4 --> 2^4 = 16\n",
        "\n",
        "#Rewrite sum in powers of 2 with a coefficient of either 0 or 1:\n",
        "27 == 1*2**(4) + 1*2**(3) + 0*2**(2) + 1*2**(1) + 1*2**(0)"
      ],
      "metadata": {
        "colab": {
          "base_uri": "https://localhost:8080/"
        },
        "id": "9SDyCzD-0imO",
        "outputId": "19085ee9-20a1-469f-af6f-b0b67ccd786a"
      },
      "execution_count": 6,
      "outputs": [
        {
          "output_type": "execute_result",
          "data": {
            "text/plain": [
              "True"
            ]
          },
          "metadata": {},
          "execution_count": 6
        }
      ]
    },
    {
      "cell_type": "code",
      "source": [
        "# Finally, combine the coefficients to identify the binary/base-2 conversion of 27(base-10)\n",
        "print('27(base-10) = 11011(base-2)')\n",
        "\n",
        "# Check with NumPy Decimal to Binary representation operator\n",
        "'11011' == np.binary_repr(27)"
      ],
      "metadata": {
        "colab": {
          "base_uri": "https://localhost:8080/"
        },
        "id": "jPCLFAlH0lPd",
        "outputId": "b3c30073-b273-46a1-e6bb-ffb306f64f28"
      },
      "execution_count": 7,
      "outputs": [
        {
          "output_type": "stream",
          "name": "stdout",
          "text": [
            "27(base-10) = 11011(base-2)\n"
          ]
        },
        {
          "output_type": "execute_result",
          "data": {
            "text/plain": [
              "True"
            ]
          },
          "metadata": {},
          "execution_count": 7
        }
      ]
    },
    {
      "cell_type": "code",
      "source": [
        "# Let's recap with one more example:\n",
        "# 13(base-10) = 1101(base-2)\n",
        "\n",
        "# Assessing accuracy of base-10 decomposition into base-2\n",
        "print(13 == 8 + 4 + 1)\n",
        "print(13 == 1*2**(3) + 1*2**(2) + 0*2**(1) + 1*2**(0))\n",
        "\n",
        "# Identifying and verifying base-2 conversion\n",
        "print('13(base-10) = 1101(base-2)')\n",
        "'1101' == np.binary_repr(13)"
      ],
      "metadata": {
        "colab": {
          "base_uri": "https://localhost:8080/"
        },
        "id": "cg5CnHHH0nD4",
        "outputId": "551e2fd6-e9f7-4d9b-c473-065cdbaa532a"
      },
      "execution_count": 8,
      "outputs": [
        {
          "output_type": "stream",
          "name": "stdout",
          "text": [
            "True\n",
            "True\n",
            "13(base-10) = 1101(base-2)\n"
          ]
        },
        {
          "output_type": "execute_result",
          "data": {
            "text/plain": [
              "True"
            ]
          },
          "metadata": {},
          "execution_count": 8
        }
      ]
    },
    {
      "cell_type": "markdown",
      "source": [
        "### Addition and Multiplication: Binary and Decimal Systems ###\n",
        "Base-2 Arithmetic Remunder:\n",
        "1 1 0 1 **1**  +  1 1 0 **1**  -->  1 + 1 = 10 --> We would put a 0 in this first place within the sum and \"carry the one\" to the next highest place as we would for a sum of 10 or more in decimal addition!"
      ],
      "metadata": {
        "id": "0KqdkP0t0tTk"
      }
    },
    {
      "cell_type": "code",
      "source": [
        "# Base-10: 27 + 13 = 40\n",
        "# Base-2: 11011 + 1101 = 101000\n",
        "\n",
        "# Base-10 decomposition into base-2\n",
        "print(40 == 1*2**(5) + 0*2**(4) + 1*2**(3) + 0*2**(2) + 0*2**(1) + 0*2**(0))\n",
        "\n",
        "# Check for accuracy:\n",
        "print('40(base-10) = 101000(base-2)')\n",
        "'101000' == np.binary_repr(40)"
      ],
      "metadata": {
        "colab": {
          "base_uri": "https://localhost:8080/"
        },
        "id": "cjtZS1nh0pU3",
        "outputId": "8a3d6d4a-416b-4b4f-fba6-869538f7d78e"
      },
      "execution_count": 9,
      "outputs": [
        {
          "output_type": "stream",
          "name": "stdout",
          "text": [
            "True\n",
            "40(base-10) = 101000(base-2)\n"
          ]
        },
        {
          "output_type": "execute_result",
          "data": {
            "text/plain": [
              "True"
            ]
          },
          "metadata": {},
          "execution_count": 9
        }
      ]
    },
    {
      "cell_type": "code",
      "source": [
        "# Base-10: 27 * 13 = 351\n",
        "# Base-2: 11011 * 1101 = 101011111\n",
        "\n",
        "# Base-10 decomposition into base-2\n",
        "print(351 == 1*2**(8) + 0*2**(7) + 1*2**(6) + 0*2**(5) + 1*2**(4) + 1*2**(3) + 1*2**(2) + 1*2**(1) + 1*2**(0))\n",
        "\n",
        "# Check for accuracy:\n",
        "print('351(base-10) = 101011111(base-2)')\n",
        "'101011111' == np.binary_repr(351)"
      ],
      "metadata": {
        "colab": {
          "base_uri": "https://localhost:8080/"
        },
        "id": "8lVxweVD0xMo",
        "outputId": "54892a56-eb9b-498c-a3c3-08ef015e4576"
      },
      "execution_count": 10,
      "outputs": [
        {
          "output_type": "stream",
          "name": "stdout",
          "text": [
            "True\n",
            "351(base-10) = 101011111(base-2)\n"
          ]
        },
        {
          "output_type": "execute_result",
          "data": {
            "text/plain": [
              "True"
            ]
          },
          "metadata": {},
          "execution_count": 10
        }
      ]
    },
    {
      "cell_type": "markdown",
      "source": [
        "***\n",
        "## **Floating Point Numbers** ##\n",
        "***"
      ],
      "metadata": {
        "id": "apwdeU4j020n"
      }
    },
    {
      "cell_type": "markdown",
      "source": [
        "* Floating point numbers, or float, are how we expand the range of values computers can use in operations and calculations with the same amount of bits\n",
        "* Expands the range beyond just positive integers to account for decimals and negative values\n",
        "* Floats are commonly mapped using the **IEEE754** system. For 64-bit systems, this means 1 bit/digit is the sign indicator **s**, the next 11 bits determine the chracteristic/exponent **e**, and the final 52 bits determine the fraction **f** in the following format:\n",
        "* floating point n = (-1)^s x 2^(e-1023) x (1+f)"
      ],
      "metadata": {
        "id": "B2x7rUTS03-k"
      }
    },
    {
      "cell_type": "code",
      "source": [
        "# IEEE754 to Decimal Conversion\n",
        "# 1 10000000001 1010000000000000000000000000000000000000000000000000 (IEEE754) = -6.5 (base-10)\n",
        "\n",
        "# Idenitfy s, e, and f:\n",
        "s_1 = 1\n",
        "e_1 = 1*2**(10) + 1*2**(0)\n",
        "f_1 = 1/(2**1) + 0/(2**2) + 1/(2**3)\n",
        "\n",
        "# Plug into IEEE754 float representation:\n",
        "n_1 = (-1)**s_1 * 2**(e_1-1023) * (1+f_1)\n",
        "print('1 10000000001 1010000000000000000000000000000000000000000000000000 (IEEE754) =')\n",
        "print(n_1)"
      ],
      "metadata": {
        "colab": {
          "base_uri": "https://localhost:8080/"
        },
        "id": "QsiFqCAg00Rg",
        "outputId": "fee974d7-cd42-446f-ff1c-2ab13a0b3dfb"
      },
      "execution_count": 11,
      "outputs": [
        {
          "output_type": "stream",
          "name": "stdout",
          "text": [
            "1 10000000001 1010000000000000000000000000000000000000000000000000 (IEEE754) =\n",
            "-6.5\n"
          ]
        }
      ]
    },
    {
      "cell_type": "markdown",
      "source": [
        "* Due to the fraction component of the floating point formula, there are gaps between each value that can be computed using this system\n",
        "* And due to the exponential in this formuala, the gap between values gets larger with the values being computed\n",
        "* Values within these gaps are assigned to their nearest \"neighbor\" value"
      ],
      "metadata": {
        "id": "uzsYleLh1FR1"
      }
    },
    {
      "cell_type": "code",
      "source": [
        "# Computing the gap between neighboring values at given large number, 1e7\n",
        "gap = np.spacing(1e7)\n",
        "print(gap)"
      ],
      "metadata": {
        "colab": {
          "base_uri": "https://localhost:8080/"
        },
        "id": "J7mmn0Fr1Dwi",
        "outputId": "8097850a-6b95-494c-a637-bd0089a24f52"
      },
      "execution_count": 12,
      "outputs": [
        {
          "output_type": "stream",
          "name": "stdout",
          "text": [
            "1.862645149230957e-09\n"
          ]
        }
      ]
    },
    {
      "cell_type": "code",
      "source": [
        "# Verifying gap by adding less than half of the gap value back to 1e7\n",
        "1e7 == 1e7 + (gap/2.5)"
      ],
      "metadata": {
        "colab": {
          "base_uri": "https://localhost:8080/"
        },
        "id": "TFlu9clM1JiY",
        "outputId": "603cc449-5be5-4d17-fe46-a026a84738b0"
      },
      "execution_count": 13,
      "outputs": [
        {
          "output_type": "execute_result",
          "data": {
            "text/plain": [
              "True"
            ]
          },
          "metadata": {},
          "execution_count": 13
        }
      ]
    },
    {
      "cell_type": "markdown",
      "source": [
        "* Due to system limitations dependent on the amount of bits available, there is still a smallest and largest decimal value that a computer can recognize in its computations\n",
        "* Numbers greater than the largest representable floating point number for a system result in **overflow**, where the result is aassigned to the value of infinity (**inf**)\n",
        "* Number less than the smallest representable float result in **underflow**, where the assigned result is **0**"
      ],
      "metadata": {
        "id": "c2rbNkmO1Mt8"
      }
    },
    {
      "cell_type": "code",
      "source": [
        "import sys\n",
        "sys.float_info\n",
        "# Displays float information and specifications for our system"
      ],
      "metadata": {
        "colab": {
          "base_uri": "https://localhost:8080/"
        },
        "id": "d5QSVIZY1Lsr",
        "outputId": "82741806-64a8-4ba3-d372-5df5ad5c80b1"
      },
      "execution_count": 14,
      "outputs": [
        {
          "output_type": "execute_result",
          "data": {
            "text/plain": [
              "sys.float_info(max=1.7976931348623157e+308, max_exp=1024, max_10_exp=308, min=2.2250738585072014e-308, min_exp=-1021, min_10_exp=-307, dig=15, mant_dig=53, epsilon=2.220446049250313e-16, radix=2, rounds=1)"
            ]
          },
          "metadata": {},
          "execution_count": 14
        }
      ]
    },
    {
      "cell_type": "markdown",
      "source": [
        "The previous output identifies the **largest** representable floating point number as `sys.float_info.max = 1.7976931348623157e+308` amd the **smallest** representable floating point number as `sys.float_info.min = 2.2250738585072014e-308`"
      ],
      "metadata": {
        "id": "BLeDAPEj1Snq"
      }
    },
    {
      "cell_type": "code",
      "source": [
        "# Displaying overflow\n",
        "2 * sys.float_info.max"
      ],
      "metadata": {
        "colab": {
          "base_uri": "https://localhost:8080/"
        },
        "id": "UqQ3Vlxr1WgB",
        "outputId": "99517d7f-1720-4629-95be-012111183dc3"
      },
      "execution_count": 15,
      "outputs": [
        {
          "output_type": "execute_result",
          "data": {
            "text/plain": [
              "inf"
            ]
          },
          "metadata": {},
          "execution_count": 15
        }
      ]
    },
    {
      "cell_type": "code",
      "source": [
        "# Displaying underflow\n",
        "2**(-500) * sys.float_info.min"
      ],
      "metadata": {
        "colab": {
          "base_uri": "https://localhost:8080/"
        },
        "id": "MA4qWGnc1YGo",
        "outputId": "78061de1-2052-49f5-eb9e-c24d894c0832"
      },
      "execution_count": 16,
      "outputs": [
        {
          "output_type": "execute_result",
          "data": {
            "text/plain": [
              "0.0"
            ]
          },
          "metadata": {},
          "execution_count": 16
        }
      ]
    },
    {
      "cell_type": "markdown",
      "source": [
        "***\n",
        "## **Round-Off Errors** ##\n",
        "***"
      ],
      "metadata": {
        "id": "LOpKUbwx1bIC"
      }
    },
    {
      "cell_type": "markdown",
      "source": [
        "* A result of using base-2 fractions to represent floating point numbers is that the numbers must be approximated according to the finite number of bytes used by the computer\n",
        "* This results in a **round-off error**, which is the difference between the computer's approximation of the number and it's true value\n",
        "* This approximation causes small errors in arithmetic operations"
      ],
      "metadata": {
        "id": "TGNozXLu1cMj"
      }
    },
    {
      "cell_type": "code",
      "source": [
        "# As an example, let's start with a small difference between 2 decimal numbers\n",
        "3.7 - 3.665"
      ],
      "metadata": {
        "colab": {
          "base_uri": "https://localhost:8080/"
        },
        "id": "ErVJvTDP1Z0d",
        "outputId": "925900ab-a722-4824-bbe0-6353b6f971b5"
      },
      "execution_count": 17,
      "outputs": [
        {
          "output_type": "execute_result",
          "data": {
            "text/plain": [
              "0.03500000000000014"
            ]
          },
          "metadata": {},
          "execution_count": 17
        }
      ]
    },
    {
      "cell_type": "code",
      "source": [
        "# However, we know the difference should just be 0.035, but the system will not agree\n",
        "3.7 - 3.665 == 0.035"
      ],
      "metadata": {
        "colab": {
          "base_uri": "https://localhost:8080/"
        },
        "id": "nURpPtMW1jVR",
        "outputId": "5beadc87-491e-411f-bbdf-8ba3dfd6f872"
      },
      "execution_count": 18,
      "outputs": [
        {
          "output_type": "execute_result",
          "data": {
            "text/plain": [
              "False"
            ]
          },
          "metadata": {},
          "execution_count": 18
        }
      ]
    },
    {
      "cell_type": "markdown",
      "source": [
        "* This is the result of the round-off error that occurs during the operation due to the floating point numbers being represented by approximations!\n",
        "* We can observe more comparable results by rounding"
      ],
      "metadata": {
        "id": "PeYXuQEm1l36"
      }
    },
    {
      "cell_type": "code",
      "source": [
        "print(0.1 + 0.2 + 0.4 == 0.7)\n",
        "# Despite us knowing this is accurate, the output will read False due to error\n",
        "\n",
        "round(0.1 + 0.2 + 0.4, 5) == round(0.7, 5)\n",
        "# But rounding both operations will make them equivalent to the computer!"
      ],
      "metadata": {
        "colab": {
          "base_uri": "https://localhost:8080/"
        },
        "id": "bEm1u0VU1pdl",
        "outputId": "6c9b2387-c2ae-4ac4-aa76-ab21e2c945a6"
      },
      "execution_count": 19,
      "outputs": [
        {
          "output_type": "stream",
          "name": "stdout",
          "text": [
            "False\n"
          ]
        },
        {
          "output_type": "execute_result",
          "data": {
            "text/plain": [
              "True"
            ]
          },
          "metadata": {},
          "execution_count": 19
        }
      ]
    },
    {
      "cell_type": "markdown",
      "source": [
        "* This round-off error can accumulate and be amplified by repeated calculations"
      ],
      "metadata": {
        "id": "1ihyjQZg1rQs"
      }
    },
    {
      "cell_type": "code",
      "source": [
        "# Let's take, for example, the operation 1 + 1/3 - 1/3\n",
        "1 + (1/3) - (1/3)\n",
        "# Done just once, the operation correctly produces a result of 1"
      ],
      "metadata": {
        "colab": {
          "base_uri": "https://localhost:8080/"
        },
        "id": "jG2lgAvq1unQ",
        "outputId": "584e189e-4632-4339-a48d-1c11829fb8d2"
      },
      "execution_count": 20,
      "outputs": [
        {
          "output_type": "execute_result",
          "data": {
            "text/plain": [
              "1.0"
            ]
          },
          "metadata": {},
          "execution_count": 20
        }
      ]
    },
    {
      "cell_type": "code",
      "source": [
        "# Now, let's try repeating this operation with an iterative function defined using for loops\n",
        "def add_sub(iterations):\n",
        "    result = 1\n",
        "    # setting the initial (correct) result\n",
        "\n",
        "    for i in range(iterations):\n",
        "        result += 1/3\n",
        "        # adds 1/3 to result of previous iteration\n",
        "\n",
        "    for i in range(iterations):\n",
        "        result -= 1/3\n",
        "        # subtracts 1/3 from result pf previous iteration\n",
        "\n",
        "    return result"
      ],
      "metadata": {
        "id": "K20WHSV01w3Y"
      },
      "execution_count": 21,
      "outputs": []
    },
    {
      "cell_type": "code",
      "source": [
        "# We can observe how the round-off error accumulates by running this operation for an increasing number of iterations\n",
        "\n",
        "print(add_sub(100))\n",
        "# repeatedly adding and subtracting 1/3 from 1 100 times\n",
        "\n",
        "print(add_sub(1000))\n",
        "# repeatedly adding and subtracting 1/3 from 1 1000 times\n",
        "\n",
        "print(add_sub(10000))\n",
        "# repeatedly adding and subtracting 1/3 from 1 10000 times\n",
        "\n",
        "print(add_sub(1000000))\n",
        "# repeatedly adding and subtracting 1/3 from 1 one million times"
      ],
      "metadata": {
        "colab": {
          "base_uri": "https://localhost:8080/"
        },
        "id": "sWzBGlNU10dS",
        "outputId": "dbaa3859-ad11-4c55-d148-cc65ad80b0bc"
      },
      "execution_count": 22,
      "outputs": [
        {
          "output_type": "stream",
          "name": "stdout",
          "text": [
            "1.0000000000000002\n",
            "1.0000000000000064\n",
            "1.0000000000001166\n",
            "0.9999999999727986\n"
          ]
        }
      ]
    },
    {
      "cell_type": "markdown",
      "source": [
        "The variation from the actual value (1) increases with the number of iterations!"
      ],
      "metadata": {
        "id": "RQFjd77v13sC"
      }
    }
  ]
}