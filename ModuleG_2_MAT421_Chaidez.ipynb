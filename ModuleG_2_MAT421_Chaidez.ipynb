{
  "nbformat": 4,
  "nbformat_minor": 0,
  "metadata": {
    "colab": {
      "provenance": [],
      "authorship_tag": "ABX9TyM0GYhwgkN5n6VWjLUiVWal",
      "include_colab_link": true
    },
    "kernelspec": {
      "name": "python3",
      "display_name": "Python 3"
    },
    "language_info": {
      "name": "python"
    }
  },
  "cells": [
    {
      "cell_type": "markdown",
      "metadata": {
        "id": "view-in-github",
        "colab_type": "text"
      },
      "source": [
        "<a href=\"https://colab.research.google.com/github/schaidez2727/MAT-421/blob/main/ModuleG_2_MAT421_Chaidez.ipynb\" target=\"_parent\"><img src=\"https://colab.research.google.com/assets/colab-badge.svg\" alt=\"Open In Colab\"/></a>"
      ]
    },
    {
      "cell_type": "markdown",
      "source": [
        "# Module G_2 (HW 9) - MAT 421 #\n",
        "#### Santana Chaidez ####"
      ],
      "metadata": {
        "id": "fzhAtW1Nz1Gd"
      }
    },
    {
      "cell_type": "markdown",
      "source": [
        "____\n",
        "## Simpson's Rule ##\n",
        "___"
      ],
      "metadata": {
        "id": "lJrpry431Hr9"
      }
    },
    {
      "cell_type": "markdown",
      "source": [
        "* Another method of **numerical integration**\n",
        "* **Simpson's Rule** approximates the area under the curve f(x) using *two* consecutive subintervals, [$x_{i-1}, x_{i}$] and [$x_{i}, x_{i+1}$]\n",
        "* Fits a *quadratic polynomial* though the points $(x_{i-1}, f(x_{i-1})), (x_{i}, f(x_{i})),$ and $(x_{i+1}, f(x_{i+1}))$\n",
        "\n",
        "Note: an even number of subintervals - and thus an odd number of grid points - are required to use Simpson's Rule.\n",
        "* Then integrates the quadratic exactly\n",
        "* Can use Lagrange polynomials to construct the polynomial approximations over the subintervals (each polynomial spans two subintervals)\n",
        "* Sum the integrals of these polynomicals over every two subintervals\n",
        "* Regrouping and using the Taylor series approximation gives us the Simpson's Rule integral approximation:\n",
        "\n",
        "$\\int\\limits_{x_{i-1}}^{x_{i+1}}f(x)dx=\\frac{h}{3}(f(x_{i-1})+4f(x_{i})+f(x_{i+1})$\n",
        "\n",
        "* Total error of $O(h^{4})$ over the whole interval, and error of $O(h^{5})$ over a subinterval."
      ],
      "metadata": {
        "id": "d1djlduTvdRE"
      }
    },
    {
      "cell_type": "code",
      "execution_count": 1,
      "metadata": {
        "id": "axPPP4zPQJDf",
        "colab": {
          "base_uri": "https://localhost:8080/"
        },
        "outputId": "adcaf228-704c-4ad9-c242-0af4d9ca2784"
      },
      "outputs": [
        {
          "output_type": "stream",
          "name": "stdout",
          "text": [
            "Simpson's Rule approximation: 8.821685475443087e-17\n",
            "Error for Simpson's Rule approximation: -8.821685475443087e-17\n"
          ]
        }
      ],
      "source": [
        "# Example of using Simpson's Rule for numerical integration in Python\n",
        "# Use Simpson's Rule to approximate integral of function  f(x) = sin(x) from 0 to 2pi\n",
        "\n",
        "import numpy as np\n",
        "\n",
        "a = 0 # lower limit and start of interval\n",
        "b = 2*np.pi # upper limit and end of interval\n",
        "n = 11 # 11 evely-spaced grid points over entire interval\n",
        "h = (b - a) / (n - 1) # spacing\n",
        "x = np.linspace(a, b, n) # grid points\n",
        "f = np.sin(x) # curve f(x) = sin(x)\n",
        "\n",
        "# Simpson's approximation + error\n",
        "simp_int = (h/3) * (f[0] + 2*sum(f[:n-2:2]) + 4*sum(f[1:n-1:2]) + f[n-1])\n",
        "err_simp = 0 - simp_int # known value of integration is 0\n",
        "\n",
        "print(\"Simpson's Rule approximation: \" + str(simp_int))\n",
        "print(\"Error for Simpson's Rule approximation: \" + str(err_simp))"
      ]
    },
    {
      "cell_type": "markdown",
      "source": [
        "Results and small error from our example show an accurate approximation from using Simpson's Rule for numerical integration."
      ],
      "metadata": {
        "id": "dj3vA9ED0TwM"
      }
    },
    {
      "cell_type": "markdown",
      "source": [
        "____\n",
        "## Computing Integrals in Python ##\n",
        "___"
      ],
      "metadata": {
        "id": "wiNK-razGEEl"
      }
    },
    {
      "cell_type": "markdown",
      "source": [
        "* Many Python libraries exist that contain sub-packages and functions useful for computing integrals\n",
        "* One example is the sub-package scipy.integrate\n",
        "* Contains functions for numerical integration using different methods that we have previously discussed"
      ],
      "metadata": {
        "id": "9s7p8pRE1aw-"
      }
    },
    {
      "cell_type": "code",
      "source": [
        "# Using scipy.integrate to approximate an integral using the Trapezoid rule\n",
        "# Approximating integral of curve f(x) = sin(x) from 0 to pi (known value of 2)\n",
        "\n",
        "import numpy as np\n",
        "from scipy.integrate import trapezoid\n",
        "# trapezoid(f,x) = function for Trapezoid Rule\n",
        "\n",
        "a = 0 # start of interval\n",
        "b = np.pi # end of interval\n",
        "n = 11 # number of grid points\n",
        "h = (b - a) / (n - 1) # spacing\n",
        "x = np.linspace(a, b, n) # evenly-spaced grid points\n",
        "f = np.sin(x) # curve f(x) = sin(x)\n",
        "\n",
        "# Numerical Integration w/ Trapezoid Rule\n",
        "trapz_int = trapezoid(f,x) # using Python function\n",
        "trap_rule_int = (h/2)*(f[0] + 2 * sum(f[1:n-1]) + f[n-1]) # using Trapezoid Rule formula\n",
        "\n",
        "print(\"Trapezoid Rule Integration w/ 'trapezoid' Python function: \" + str(trapz_int))\n",
        "print(\"Trapezoid Rule Integration (manual): \" + str(trap_rule_int))"
      ],
      "metadata": {
        "id": "LuywAgYKyCyT",
        "colab": {
          "base_uri": "https://localhost:8080/"
        },
        "outputId": "f0706ac5-18d5-45ad-d696-c6891211f4b5"
      },
      "execution_count": 8,
      "outputs": [
        {
          "output_type": "stream",
          "name": "stdout",
          "text": [
            "Trapezoid Rule Integration w/ 'trapezoid' Python function: 1.9835235375094544\n",
            "Trapezoid Rule Integration (manual): 1.9835235375094546\n"
          ]
        }
      ]
    },
    {
      "cell_type": "markdown",
      "source": [
        "Results from numerical integration using Trapezoid Rule formula vs. the corresponding Python function 'trapezoid' are both very similar!"
      ],
      "metadata": {
        "id": "IUv_Ie1b5ebx"
      }
    },
    {
      "cell_type": "code",
      "source": [
        "# Using scipy.integrate to approximate an integral using qud numerical differentiation scheme\n",
        "# Approximating integral of curve f(x) = sin(x) from 0 to pi (known value of 2)\n",
        "\n",
        "import numpy as np\n",
        "from scipy.integrate import quad\n",
        "# quad(f, a, b) -> integrates the function defined by the function object, f, from a to b\n",
        "\n",
        "a = 0 # start of interval/integration\n",
        "b = np.pi # end of interval/integration\n",
        "f = np.sin # function object, f => curve f(x) = sin(x)\n",
        "\n",
        "# Quad Integration\n",
        "quad_int, est_err_quad = quad(f, a, b)\n",
        "err_quad = 2 - quad_int\n",
        "\n",
        "print(\"Quad Numerical Integration w/ 'quad' Python function: \" + str(quad_int))\n",
        "print(\"Est. Error (estimated abs. value by 'quad' function): \" + str(est_err_quad))\n",
        "print(\"Actual Error: \" + str(err_quad))"
      ],
      "metadata": {
        "colab": {
          "base_uri": "https://localhost:8080/"
        },
        "id": "jW6A14Qj4buu",
        "outputId": "2647070c-c8c8-415e-bf0f-c363adb609ff"
      },
      "execution_count": 10,
      "outputs": [
        {
          "output_type": "stream",
          "name": "stdout",
          "text": [
            "Quad Numerical Integration w/ 'quad' Python function: 2.0\n",
            "Est. Error (estimated abs. value by 'quad' function): 2.220446049250313e-14\n",
            "Actual Error: 0.0\n"
          ]
        }
      ]
    },
    {
      "cell_type": "markdown",
      "source": [
        "This example again displays accurate results from the numeric integration performed by Python function 'quad'."
      ],
      "metadata": {
        "id": "JcSsT3N5_RIX"
      }
    },
    {
      "cell_type": "markdown",
      "source": [
        "____\n",
        "## Summary ##\n",
        "___"
      ],
      "metadata": {
        "id": "1ZqdXjBj_jhu"
      }
    },
    {
      "cell_type": "markdown",
      "source": [
        "* Often difficult (or even impossible) to explicitly integrate a function\n",
        "* Instead, numerical approaches can be used to approximate these integrals\n",
        "* Common methods of approximating integrals: Riemann Integral, Trapezoid Rule, and Simpson's Rule\n",
        "* Each method has an order of accuracy that depends on the approximation of the area below the function!"
      ],
      "metadata": {
        "id": "f_PVVQL7_oMn"
      }
    }
  ]
}